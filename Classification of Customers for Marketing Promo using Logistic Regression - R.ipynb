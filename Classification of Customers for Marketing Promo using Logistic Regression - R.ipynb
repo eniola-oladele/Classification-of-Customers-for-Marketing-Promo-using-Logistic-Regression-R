{
 "cells": [
  {
   "cell_type": "markdown",
   "metadata": {},
   "source": [
    "### Business Understanding"
   ]
  },
  {
   "cell_type": "markdown",
   "metadata": {},
   "source": [
    "Machine learning has found application in various sectors of human endeavors of which marketing is not an exemption. Marketing is a key part of any business. It requires strategic steps in order to maximize its impact in today’s dynamic world using every available medium. In this work, we applied Logistic regression – a classification algorithm in machine learning to achieve this goal. Our goal is to achieve high true positive (TP) and reduce false negative or type 2 error. In other words, we want to have high tolerance on false positive or type 1 error. Our algorithm gave an accuracy of 70%."
   ]
  },
  {
   "cell_type": "markdown",
   "metadata": {},
   "source": [
    "### Data Preparation"
   ]
  },
  {
   "cell_type": "code",
   "execution_count": 1,
   "metadata": {
    "scrolled": false
   },
   "outputs": [
    {
     "data": {
      "text/html": [
       "<table>\n",
       "<thead><tr><th scope=col>CustomerID</th><th scope=col>Gender</th><th scope=col>Age</th><th scope=col>Annual_Income</th><th scope=col>Spending_Score</th></tr></thead>\n",
       "<tbody>\n",
       "\t<tr><td>1     </td><td>Male  </td><td>19    </td><td>15    </td><td>39    </td></tr>\n",
       "\t<tr><td>2     </td><td>Male  </td><td>21    </td><td>15    </td><td>81    </td></tr>\n",
       "\t<tr><td>3     </td><td>Female</td><td>20    </td><td>16    </td><td> 6    </td></tr>\n",
       "\t<tr><td>4     </td><td>Female</td><td>23    </td><td>16    </td><td>77    </td></tr>\n",
       "\t<tr><td>5     </td><td>Female</td><td>31    </td><td>17    </td><td>40    </td></tr>\n",
       "\t<tr><td>6     </td><td>Female</td><td>22    </td><td>17    </td><td>76    </td></tr>\n",
       "</tbody>\n",
       "</table>\n"
      ],
      "text/latex": [
       "\\begin{tabular}{r|lllll}\n",
       " CustomerID & Gender & Age & Annual\\_Income & Spending\\_Score\\\\\n",
       "\\hline\n",
       "\t 1      & Male   & 19     & 15     & 39    \\\\\n",
       "\t 2      & Male   & 21     & 15     & 81    \\\\\n",
       "\t 3      & Female & 20     & 16     &  6    \\\\\n",
       "\t 4      & Female & 23     & 16     & 77    \\\\\n",
       "\t 5      & Female & 31     & 17     & 40    \\\\\n",
       "\t 6      & Female & 22     & 17     & 76    \\\\\n",
       "\\end{tabular}\n"
      ],
      "text/markdown": [
       "\n",
       "| CustomerID | Gender | Age | Annual_Income | Spending_Score |\n",
       "|---|---|---|---|---|\n",
       "| 1      | Male   | 19     | 15     | 39     |\n",
       "| 2      | Male   | 21     | 15     | 81     |\n",
       "| 3      | Female | 20     | 16     |  6     |\n",
       "| 4      | Female | 23     | 16     | 77     |\n",
       "| 5      | Female | 31     | 17     | 40     |\n",
       "| 6      | Female | 22     | 17     | 76     |\n",
       "\n"
      ],
      "text/plain": [
       "  CustomerID Gender Age Annual_Income Spending_Score\n",
       "1 1          Male   19  15            39            \n",
       "2 2          Male   21  15            81            \n",
       "3 3          Female 20  16             6            \n",
       "4 4          Female 23  16            77            \n",
       "5 5          Female 31  17            40            \n",
       "6 6          Female 22  17            76            "
      ]
     },
     "metadata": {},
     "output_type": "display_data"
    }
   ],
   "source": [
    "#### Data loading\n",
    "mall_data <- read.csv(\"Mall_Customers.csv\")\n",
    "head(mall_data)"
   ]
  },
  {
   "cell_type": "code",
   "execution_count": 2,
   "metadata": {
    "scrolled": false
   },
   "outputs": [],
   "source": [
    "attach(mall_data)"
   ]
  },
  {
   "cell_type": "markdown",
   "metadata": {},
   "source": [
    "### EDA"
   ]
  },
  {
   "cell_type": "code",
   "execution_count": 3,
   "metadata": {
    "scrolled": false
   },
   "outputs": [
    {
     "data": {
      "image/png": "[encoded data removed]",
      "text/plain": [
       "Plot with title \"Plot of Spending Score against Annual Income\""
      ]
     },
     "metadata": {},
     "output_type": "display_data"
    }
   ],
   "source": [
    "#### Plots\n",
    "par(mfrow=c(3,3))\n",
    "hist(Age, xlab=\"Age (Years)\", ylab=\"Frequency\", main = \"Histogram of Age distribution\")\n",
    "plot(Gender, xlab=\"Gender\", ylab=\"Frequency\", main = \"Gender distribution\")\n",
    "hist(Annual_Income, main = \"Income distribution (in 1000$)\")\n",
    "hist(Spending_Score, main = \"Spending Score distribution\")\n",
    "plot(Gender, Annual_Income, xlab=\"Gender\", ylab=\"Annual Income (1000$)\", main = \"Annual Income distribution across Gender\")\n",
    "plot(Gender, Spending_Score, xlab=\"Gender\", ylab=\"Spending Score\", main = \"Spending Score distribution across Gender\")\n",
    "plot(Spending_Score, Age, xlab=\"Spending Score\", ylab=\"Age\", main = \"Plot of Spending Score against Age\")\n",
    "plot(Annual_Income, Age, xlab=\"Annual Income (1000$)\", ylab=\"Age\", main = \"Plot of Annual Income against Age\")\n",
    "plot(Spending_Score, Annual_Income, xlab=\"Spending Score\", ylab=\"Annual Income (1000$)\", \n",
    "     main = \"Plot of Spending Score against Annual Income\")"
   ]
  },
  {
   "cell_type": "markdown",
   "metadata": {},
   "source": [
    "Most of the customers age ranges from teen to 50 years and are females.\n",
    "\n",
    "The income distribution chart shows that most of the customers earn between 15,000 and 80,000 USD annually.\n",
    "\n",
    "Spending score range of 40 to 60 are prominent in the data as show in Spending score distribution above.\n",
    "\n",
    "Males seem to generally earn more than females also with higher median annual income. Both genders have same highest and lowest annual earning. There is an outlier in the male income distribution of about $140,000 annual income. This is not out of place and we choose to keep it for modelling.\n",
    "\n",
    "It is not surprising that females generally spend more than their male counterparts though they appear to have same median spending score.\n",
    "\n",
    "There is no correlation between these Age and Spending score. Though there seems to be a sign of clusters. Similarly, there is no correlation between aga and annual income.\n",
    "\n",
    "We could see five different clusters in the scatter plot of Annual income versus Spending score. This gives an insight that there are possibly five different types of shoppers in our data. Had it been we want to perform an unsupervised learning, We could have given names to the different clusters shown above but we are interested in separating the shoppers into two classes; high-spending and low-spending customers."
   ]
  },
  {
   "cell_type": "code",
   "execution_count": 4,
   "metadata": {
    "scrolled": true
   },
   "outputs": [
    {
     "data": {
      "text/plain": [
       "   CustomerID        Gender         Age        Annual_Income    Spending_Score \n",
       " Min.   :  1.00   Female:112   Min.   :18.00   Min.   : 15.00   Min.   : 1.00  \n",
       " 1st Qu.: 50.75   Male  : 88   1st Qu.:28.75   1st Qu.: 41.50   1st Qu.:34.75  \n",
       " Median :100.50                Median :36.00   Median : 61.50   Median :50.00  \n",
       " Mean   :100.50                Mean   :38.85   Mean   : 60.56   Mean   :50.20  \n",
       " 3rd Qu.:150.25                3rd Qu.:49.00   3rd Qu.: 78.00   3rd Qu.:73.00  \n",
       " Max.   :200.00                Max.   :70.00   Max.   :137.00   Max.   :99.00  "
      ]
     },
     "metadata": {},
     "output_type": "display_data"
    }
   ],
   "source": [
    "# Statistical Summary of data based on Gender\n",
    "summary(mall_data)"
   ]
  },
  {
   "cell_type": "markdown",
   "metadata": {},
   "source": [
    "Our data set contains spending information for 112 females and 88 males as shown above. This distribution is not biased. The five number summaries of other predictors are also okay. They are all important consideration in moving forward with our choice of data and EDA."
   ]
  },
  {
   "cell_type": "code",
   "execution_count": 5,
   "metadata": {
    "scrolled": false
   },
   "outputs": [
    {
     "data": {
      "text/plain": [
       "mall_data$Gender: Female\n",
       "   CustomerID        Gender         Age       Annual_Income    Spending_Score \n",
       " Min.   :  3.00   Female:112   Min.   :18.0   Min.   : 16.00   Min.   : 5.00  \n",
       " 1st Qu.: 46.75   Male  :  0   1st Qu.:29.0   1st Qu.: 39.75   1st Qu.:35.00  \n",
       " Median : 94.50                Median :35.0   Median : 60.00   Median :50.00  \n",
       " Mean   : 97.56                Mean   :38.1   Mean   : 59.25   Mean   :51.53  \n",
       " 3rd Qu.:148.25                3rd Qu.:47.5   3rd Qu.: 77.25   3rd Qu.:73.00  \n",
       " Max.   :197.00                Max.   :68.0   Max.   :126.00   Max.   :99.00  \n",
       "------------------------------------------------------------ \n",
       "mall_data$Gender: Male\n",
       "   CustomerID       Gender        Age        Annual_Income    Spending_Score \n",
       " Min.   :  1.0   Female: 0   Min.   :18.00   Min.   : 15.00   Min.   : 1.00  \n",
       " 1st Qu.: 59.5   Male  :88   1st Qu.:27.75   1st Qu.: 45.50   1st Qu.:24.50  \n",
       " Median :106.5               Median :37.00   Median : 62.50   Median :50.00  \n",
       " Mean   :104.2               Mean   :39.81   Mean   : 62.23   Mean   :48.51  \n",
       " 3rd Qu.:151.2               3rd Qu.:50.50   3rd Qu.: 78.00   3rd Qu.:70.00  \n",
       " Max.   :200.0               Max.   :70.00   Max.   :137.00   Max.   :97.00  "
      ]
     },
     "metadata": {},
     "output_type": "display_data"
    }
   ],
   "source": [
    "by(mall_data, mall_data$Gender, summary)"
   ]
  },
  {
   "cell_type": "markdown",
   "metadata": {},
   "source": [
    "The summary above shows the statistics by gender without high shortcomings in age and annual income distribution."
   ]
  },
  {
   "cell_type": "code",
   "execution_count": 6,
   "metadata": {
    "scrolled": false
   },
   "outputs": [
    {
     "data": {
      "text/html": [
       "<table>\n",
       "<thead><tr><th scope=col>CustomerID</th><th scope=col>Gender</th><th scope=col>Age</th><th scope=col>Annual_Income</th><th scope=col>Spending_Score</th></tr></thead>\n",
       "<tbody>\n",
       "\t<tr><td>1     </td><td>Male  </td><td>19    </td><td>15    </td><td>Low   </td></tr>\n",
       "\t<tr><td>2     </td><td>Male  </td><td>21    </td><td>15    </td><td>High  </td></tr>\n",
       "\t<tr><td>3     </td><td>Female</td><td>20    </td><td>16    </td><td>Low   </td></tr>\n",
       "\t<tr><td>4     </td><td>Female</td><td>23    </td><td>16    </td><td>High  </td></tr>\n",
       "\t<tr><td>5     </td><td>Female</td><td>31    </td><td>17    </td><td>Low   </td></tr>\n",
       "\t<tr><td>6     </td><td>Female</td><td>22    </td><td>17    </td><td>High  </td></tr>\n",
       "</tbody>\n",
       "</table>\n"
      ],
      "text/latex": [
       "\\begin{tabular}{r|lllll}\n",
       " CustomerID & Gender & Age & Annual\\_Income & Spending\\_Score\\\\\n",
       "\\hline\n",
       "\t 1      & Male   & 19     & 15     & Low   \\\\\n",
       "\t 2      & Male   & 21     & 15     & High  \\\\\n",
       "\t 3      & Female & 20     & 16     & Low   \\\\\n",
       "\t 4      & Female & 23     & 16     & High  \\\\\n",
       "\t 5      & Female & 31     & 17     & Low   \\\\\n",
       "\t 6      & Female & 22     & 17     & High  \\\\\n",
       "\\end{tabular}\n"
      ],
      "text/markdown": [
       "\n",
       "| CustomerID | Gender | Age | Annual_Income | Spending_Score |\n",
       "|---|---|---|---|---|\n",
       "| 1      | Male   | 19     | 15     | Low    |\n",
       "| 2      | Male   | 21     | 15     | High   |\n",
       "| 3      | Female | 20     | 16     | Low    |\n",
       "| 4      | Female | 23     | 16     | High   |\n",
       "| 5      | Female | 31     | 17     | Low    |\n",
       "| 6      | Female | 22     | 17     | High   |\n",
       "\n"
      ],
      "text/plain": [
       "  CustomerID Gender Age Annual_Income Spending_Score\n",
       "1 1          Male   19  15            Low           \n",
       "2 2          Male   21  15            High          \n",
       "3 3          Female 20  16            Low           \n",
       "4 4          Female 23  16            High          \n",
       "5 5          Female 31  17            Low           \n",
       "6 6          Female 22  17            High          "
      ]
     },
     "metadata": {},
     "output_type": "display_data"
    }
   ],
   "source": [
    "# Categorical feature transformation\n",
    "mall_data$Spending_Score <- ifelse(mall_data$Spending_Score >= 50, 'High', 'Low')\n",
    "head(mall_data)"
   ]
  },
  {
   "cell_type": "code",
   "execution_count": 7,
   "metadata": {
    "scrolled": false
   },
   "outputs": [
    {
     "data": {
      "text/plain": [
       "mall_data$Spending_Score: High\n",
       "   CustomerID        Gender        Age        Annual_Income   \n",
       " Min.   :  2.00   Female:58   Min.   :18.00   Min.   : 15.00  \n",
       " 1st Qu.: 52.25   Male  :44   1st Qu.:26.25   1st Qu.: 42.25  \n",
       " Median : 97.00               Median :31.50   Median : 60.00  \n",
       " Mean   : 99.75               Mean   :34.92   Mean   : 60.20  \n",
       " 3rd Qu.:149.50               3rd Qu.:38.75   3rd Qu.: 77.75  \n",
       " Max.   :200.00               Max.   :70.00   Max.   :137.00  \n",
       " Spending_Score    \n",
       " Length:102        \n",
       " Class :character  \n",
       " Mode  :character  \n",
       "                   \n",
       "                   \n",
       "                   \n",
       "------------------------------------------------------------ \n",
       "mall_data$Spending_Score: Low\n",
       "   CustomerID        Gender        Age        Annual_Income   \n",
       " Min.   :  1.00   Female:54   Min.   :18.00   Min.   : 15.00  \n",
       " 1st Qu.: 49.25   Male  :44   1st Qu.:34.00   1st Qu.: 40.00  \n",
       " Median :101.50               Median :44.50   Median : 62.00  \n",
       " Mean   :101.29               Mean   :42.94   Mean   : 60.94  \n",
       " 3rd Qu.:150.50               3rd Qu.:51.75   3rd Qu.: 78.00  \n",
       " Max.   :199.00               Max.   :69.00   Max.   :137.00  \n",
       " Spending_Score    \n",
       " Length:98         \n",
       " Class :character  \n",
       " Mode  :character  \n",
       "                   \n",
       "                   \n",
       "                   "
      ]
     },
     "metadata": {},
     "output_type": "display_data"
    }
   ],
   "source": [
    "# Summary based on Spending_score\n",
    "by(mall_data, mall_data$Spending_Score, summary)"
   ]
  },
  {
   "cell_type": "markdown",
   "metadata": {},
   "source": [
    "The results above shows income distribution between the two genders. There are 102 low-income earners and 98 high-income earners with both having a good proportion of both genders."
   ]
  },
  {
   "cell_type": "code",
   "execution_count": 8,
   "metadata": {
    "scrolled": false
   },
   "outputs": [
    {
     "data": {
      "text/html": [
       "<table>\n",
       "<thead><tr><th scope=col>CustomerID</th><th scope=col>Gender</th><th scope=col>Age</th><th scope=col>Annual_Income</th><th scope=col>Spending_Score</th></tr></thead>\n",
       "<tbody>\n",
       "\t<tr><td>1 </td><td>1 </td><td>19</td><td>15</td><td>0 </td></tr>\n",
       "\t<tr><td>2 </td><td>1 </td><td>21</td><td>15</td><td>1 </td></tr>\n",
       "\t<tr><td>3 </td><td>0 </td><td>20</td><td>16</td><td>0 </td></tr>\n",
       "\t<tr><td>4 </td><td>0 </td><td>23</td><td>16</td><td>1 </td></tr>\n",
       "\t<tr><td>5 </td><td>0 </td><td>31</td><td>17</td><td>0 </td></tr>\n",
       "\t<tr><td>6 </td><td>0 </td><td>22</td><td>17</td><td>1 </td></tr>\n",
       "</tbody>\n",
       "</table>\n"
      ],
      "text/latex": [
       "\\begin{tabular}{r|lllll}\n",
       " CustomerID & Gender & Age & Annual\\_Income & Spending\\_Score\\\\\n",
       "\\hline\n",
       "\t 1  & 1  & 19 & 15 & 0 \\\\\n",
       "\t 2  & 1  & 21 & 15 & 1 \\\\\n",
       "\t 3  & 0  & 20 & 16 & 0 \\\\\n",
       "\t 4  & 0  & 23 & 16 & 1 \\\\\n",
       "\t 5  & 0  & 31 & 17 & 0 \\\\\n",
       "\t 6  & 0  & 22 & 17 & 1 \\\\\n",
       "\\end{tabular}\n"
      ],
      "text/markdown": [
       "\n",
       "| CustomerID | Gender | Age | Annual_Income | Spending_Score |\n",
       "|---|---|---|---|---|\n",
       "| 1  | 1  | 19 | 15 | 0  |\n",
       "| 2  | 1  | 21 | 15 | 1  |\n",
       "| 3  | 0  | 20 | 16 | 0  |\n",
       "| 4  | 0  | 23 | 16 | 1  |\n",
       "| 5  | 0  | 31 | 17 | 0  |\n",
       "| 6  | 0  | 22 | 17 | 1  |\n",
       "\n"
      ],
      "text/plain": [
       "  CustomerID Gender Age Annual_Income Spending_Score\n",
       "1 1          1      19  15            0             \n",
       "2 2          1      21  15            1             \n",
       "3 3          0      20  16            0             \n",
       "4 4          0      23  16            1             \n",
       "5 5          0      31  17            0             \n",
       "6 6          0      22  17            1             "
      ]
     },
     "metadata": {},
     "output_type": "display_data"
    }
   ],
   "source": [
    "# Label encoding\n",
    "mall_data$Gender <- ifelse(mall_data$Gender == 'Male', 1, 0)\n",
    "mall_data$Spending_Score <- ifelse(mall_data$Spending_Score == 'High', 1, 0)\n",
    "head(mall_data)"
   ]
  },
  {
   "cell_type": "markdown",
   "metadata": {},
   "source": [
    "#### Modelling"
   ]
  },
  {
   "cell_type": "code",
   "execution_count": 9,
   "metadata": {
    "scrolled": false
   },
   "outputs": [
    {
     "data": {
      "text/html": [
       "<table>\n",
       "<thead><tr><th scope=col>CustomerID</th><th scope=col>Gender</th><th scope=col>Age</th><th scope=col>Annual_Income</th><th scope=col>Spending_Score</th></tr></thead>\n",
       "<tbody>\n",
       "\t<tr><td>1 </td><td>1 </td><td>19</td><td>15</td><td>0 </td></tr>\n",
       "\t<tr><td>2 </td><td>1 </td><td>21</td><td>15</td><td>1 </td></tr>\n",
       "\t<tr><td>3 </td><td>0 </td><td>20</td><td>16</td><td>0 </td></tr>\n",
       "\t<tr><td>4 </td><td>0 </td><td>23</td><td>16</td><td>1 </td></tr>\n",
       "\t<tr><td>5 </td><td>0 </td><td>31</td><td>17</td><td>0 </td></tr>\n",
       "\t<tr><td>6 </td><td>0 </td><td>22</td><td>17</td><td>1 </td></tr>\n",
       "</tbody>\n",
       "</table>\n"
      ],
      "text/latex": [
       "\\begin{tabular}{r|lllll}\n",
       " CustomerID & Gender & Age & Annual\\_Income & Spending\\_Score\\\\\n",
       "\\hline\n",
       "\t 1  & 1  & 19 & 15 & 0 \\\\\n",
       "\t 2  & 1  & 21 & 15 & 1 \\\\\n",
       "\t 3  & 0  & 20 & 16 & 0 \\\\\n",
       "\t 4  & 0  & 23 & 16 & 1 \\\\\n",
       "\t 5  & 0  & 31 & 17 & 0 \\\\\n",
       "\t 6  & 0  & 22 & 17 & 1 \\\\\n",
       "\\end{tabular}\n"
      ],
      "text/markdown": [
       "\n",
       "| CustomerID | Gender | Age | Annual_Income | Spending_Score |\n",
       "|---|---|---|---|---|\n",
       "| 1  | 1  | 19 | 15 | 0  |\n",
       "| 2  | 1  | 21 | 15 | 1  |\n",
       "| 3  | 0  | 20 | 16 | 0  |\n",
       "| 4  | 0  | 23 | 16 | 1  |\n",
       "| 5  | 0  | 31 | 17 | 0  |\n",
       "| 6  | 0  | 22 | 17 | 1  |\n",
       "\n"
      ],
      "text/plain": [
       "  CustomerID Gender Age Annual_Income Spending_Score\n",
       "1 1          1      19  15            0             \n",
       "2 2          1      21  15            1             \n",
       "3 3          0      20  16            0             \n",
       "4 4          0      23  16            1             \n",
       "5 5          0      31  17            0             \n",
       "6 6          0      22  17            1             "
      ]
     },
     "metadata": {},
     "output_type": "display_data"
    },
    {
     "data": {
      "text/html": [
       "<table>\n",
       "<thead><tr><th></th><th scope=col>CustomerID</th><th scope=col>Gender</th><th scope=col>Age</th><th scope=col>Annual_Income</th><th scope=col>Spending_Score</th></tr></thead>\n",
       "<tbody>\n",
       "\t<tr><th scope=row>135</th><td>135</td><td>1  </td><td>20 </td><td>73 </td><td>0  </td></tr>\n",
       "\t<tr><th scope=row>136</th><td>136</td><td>0  </td><td>29 </td><td>73 </td><td>1  </td></tr>\n",
       "\t<tr><th scope=row>137</th><td>137</td><td>0  </td><td>44 </td><td>73 </td><td>0  </td></tr>\n",
       "\t<tr><th scope=row>138</th><td>138</td><td>1  </td><td>32 </td><td>73 </td><td>1  </td></tr>\n",
       "\t<tr><th scope=row>139</th><td>139</td><td>1  </td><td>19 </td><td>74 </td><td>0  </td></tr>\n",
       "\t<tr><th scope=row>140</th><td>140</td><td>0  </td><td>35 </td><td>74 </td><td>1  </td></tr>\n",
       "</tbody>\n",
       "</table>\n"
      ],
      "text/latex": [
       "\\begin{tabular}{r|lllll}\n",
       "  & CustomerID & Gender & Age & Annual\\_Income & Spending\\_Score\\\\\n",
       "\\hline\n",
       "\t135 & 135 & 1   & 20  & 73  & 0  \\\\\n",
       "\t136 & 136 & 0   & 29  & 73  & 1  \\\\\n",
       "\t137 & 137 & 0   & 44  & 73  & 0  \\\\\n",
       "\t138 & 138 & 1   & 32  & 73  & 1  \\\\\n",
       "\t139 & 139 & 1   & 19  & 74  & 0  \\\\\n",
       "\t140 & 140 & 0   & 35  & 74  & 1  \\\\\n",
       "\\end{tabular}\n"
      ],
      "text/markdown": [
       "\n",
       "| <!--/--> | CustomerID | Gender | Age | Annual_Income | Spending_Score |\n",
       "|---|---|---|---|---|---|\n",
       "| 135 | 135 | 1   | 20  | 73  | 0   |\n",
       "| 136 | 136 | 0   | 29  | 73  | 1   |\n",
       "| 137 | 137 | 0   | 44  | 73  | 0   |\n",
       "| 138 | 138 | 1   | 32  | 73  | 1   |\n",
       "| 139 | 139 | 1   | 19  | 74  | 0   |\n",
       "| 140 | 140 | 0   | 35  | 74  | 1   |\n",
       "\n"
      ],
      "text/plain": [
       "    CustomerID Gender Age Annual_Income Spending_Score\n",
       "135 135        1      20  73            0             \n",
       "136 136        0      29  73            1             \n",
       "137 137        0      44  73            0             \n",
       "138 138        1      32  73            1             \n",
       "139 139        1      19  74            0             \n",
       "140 140        0      35  74            1             "
      ]
     },
     "metadata": {},
     "output_type": "display_data"
    },
    {
     "data": {
      "text/plain": [
       "train$Spending_Score: 0\n",
       "   CustomerID         Gender            Age        Annual_Income  \n",
       " Min.   :  1.00   Min.   :0.0000   Min.   :18.00   Min.   :15.00  \n",
       " 1st Qu.: 34.50   1st Qu.:0.0000   1st Qu.:32.00   1st Qu.:33.00  \n",
       " Median : 74.00   Median :0.0000   Median :46.50   Median :52.00  \n",
       " Mean   : 70.97   Mean   :0.4265   Mean   :43.43   Mean   :47.66  \n",
       " 3rd Qu.:106.50   3rd Qu.:1.0000   3rd Qu.:53.00   3rd Qu.:62.25  \n",
       " Max.   :139.00   Max.   :1.0000   Max.   :69.00   Max.   :74.00  \n",
       " Spending_Score\n",
       " Min.   :0     \n",
       " 1st Qu.:0     \n",
       " Median :0     \n",
       " Mean   :0     \n",
       " 3rd Qu.:0     \n",
       " Max.   :0     \n",
       "------------------------------------------------------------ \n",
       "train$Spending_Score: 1\n",
       "   CustomerID         Gender            Age        Annual_Income  \n",
       " Min.   :  2.00   Min.   :0.0000   Min.   :18.00   Min.   :15.00  \n",
       " 1st Qu.: 37.50   1st Qu.:0.0000   1st Qu.:23.00   1st Qu.:33.75  \n",
       " Median : 66.50   Median :0.0000   Median :31.00   Median :48.00  \n",
       " Mean   : 70.06   Mean   :0.4306   Mean   :36.12   Mean   :47.35  \n",
       " 3rd Qu.:104.25   3rd Qu.:1.0000   3rd Qu.:49.00   3rd Qu.:62.00  \n",
       " Max.   :140.00   Max.   :1.0000   Max.   :70.00   Max.   :74.00  \n",
       " Spending_Score\n",
       " Min.   :1     \n",
       " 1st Qu.:1     \n",
       " Median :1     \n",
       " Mean   :1     \n",
       " 3rd Qu.:1     \n",
       " Max.   :1     "
      ]
     },
     "metadata": {},
     "output_type": "display_data"
    },
    {
     "data": {
      "text/plain": [
       "train$Gender: 0\n",
       "   CustomerID         Gender       Age       Annual_Income   Spending_Score  \n",
       " Min.   :  3.00   Min.   :0   Min.   :18.0   Min.   :16.00   Min.   :0.0000  \n",
       " 1st Qu.: 36.75   1st Qu.:0   1st Qu.:26.5   1st Qu.:33.75   1st Qu.:0.0000  \n",
       " Median : 67.50   Median :0   Median :35.0   Median :48.00   Median :1.0000  \n",
       " Mean   : 68.28   Mean   :0   Mean   :38.3   Mean   :46.62   Mean   :0.5125  \n",
       " 3rd Qu.:101.25   3rd Qu.:0   3rd Qu.:49.0   3rd Qu.:62.00   3rd Qu.:1.0000  \n",
       " Max.   :140.00   Max.   :0   Max.   :68.0   Max.   :74.00   Max.   :1.0000  \n",
       "------------------------------------------------------------ \n",
       "train$Gender: 1\n",
       "   CustomerID         Gender       Age        Annual_Income   Spending_Score  \n",
       " Min.   :  1.00   Min.   :1   Min.   :18.00   Min.   :15.00   Min.   :0.0000  \n",
       " 1st Qu.: 33.75   1st Qu.:1   1st Qu.:24.75   1st Qu.:33.00   1st Qu.:0.0000  \n",
       " Median : 75.50   Median :1   Median :39.50   Median :54.00   Median :1.0000  \n",
       " Mean   : 73.47   Mean   :1   Mean   :41.50   Mean   :48.67   Mean   :0.5167  \n",
       " 3rd Qu.:108.25   3rd Qu.:1   3rd Qu.:57.50   3rd Qu.:63.00   3rd Qu.:1.0000  \n",
       " Max.   :139.00   Max.   :1   Max.   :70.00   Max.   :74.00   Max.   :1.0000  "
      ]
     },
     "metadata": {},
     "output_type": "display_data"
    }
   ],
   "source": [
    "# Training data\n",
    "train <- mall_data[1:140,]\n",
    "head(train)\n",
    "tail(train)\n",
    "by(train, train$Spending_Score, summary)\n",
    "by(train, train$Gender, summary)"
   ]
  },
  {
   "cell_type": "code",
   "execution_count": 10,
   "metadata": {
    "scrolled": false
   },
   "outputs": [
    {
     "data": {
      "text/html": [
       "<table>\n",
       "<thead><tr><th></th><th scope=col>CustomerID</th><th scope=col>Gender</th><th scope=col>Age</th><th scope=col>Annual_Income</th><th scope=col>Spending_Score</th></tr></thead>\n",
       "<tbody>\n",
       "\t<tr><th scope=row>141</th><td>141</td><td>0  </td><td>57 </td><td>75 </td><td>0  </td></tr>\n",
       "\t<tr><th scope=row>142</th><td>142</td><td>1  </td><td>32 </td><td>75 </td><td>1  </td></tr>\n",
       "\t<tr><th scope=row>143</th><td>143</td><td>0  </td><td>28 </td><td>76 </td><td>0  </td></tr>\n",
       "\t<tr><th scope=row>144</th><td>144</td><td>0  </td><td>32 </td><td>76 </td><td>1  </td></tr>\n",
       "\t<tr><th scope=row>145</th><td>145</td><td>1  </td><td>25 </td><td>77 </td><td>0  </td></tr>\n",
       "\t<tr><th scope=row>146</th><td>146</td><td>1  </td><td>28 </td><td>77 </td><td>1  </td></tr>\n",
       "</tbody>\n",
       "</table>\n"
      ],
      "text/latex": [
       "\\begin{tabular}{r|lllll}\n",
       "  & CustomerID & Gender & Age & Annual\\_Income & Spending\\_Score\\\\\n",
       "\\hline\n",
       "\t141 & 141 & 0   & 57  & 75  & 0  \\\\\n",
       "\t142 & 142 & 1   & 32  & 75  & 1  \\\\\n",
       "\t143 & 143 & 0   & 28  & 76  & 0  \\\\\n",
       "\t144 & 144 & 0   & 32  & 76  & 1  \\\\\n",
       "\t145 & 145 & 1   & 25  & 77  & 0  \\\\\n",
       "\t146 & 146 & 1   & 28  & 77  & 1  \\\\\n",
       "\\end{tabular}\n"
      ],
      "text/markdown": [
       "\n",
       "| <!--/--> | CustomerID | Gender | Age | Annual_Income | Spending_Score |\n",
       "|---|---|---|---|---|---|\n",
       "| 141 | 141 | 0   | 57  | 75  | 0   |\n",
       "| 142 | 142 | 1   | 32  | 75  | 1   |\n",
       "| 143 | 143 | 0   | 28  | 76  | 0   |\n",
       "| 144 | 144 | 0   | 32  | 76  | 1   |\n",
       "| 145 | 145 | 1   | 25  | 77  | 0   |\n",
       "| 146 | 146 | 1   | 28  | 77  | 1   |\n",
       "\n"
      ],
      "text/plain": [
       "    CustomerID Gender Age Annual_Income Spending_Score\n",
       "141 141        0      57  75            0             \n",
       "142 142        1      32  75            1             \n",
       "143 143        0      28  76            0             \n",
       "144 144        0      32  76            1             \n",
       "145 145        1      25  77            0             \n",
       "146 146        1      28  77            1             "
      ]
     },
     "metadata": {},
     "output_type": "display_data"
    },
    {
     "data": {
      "text/html": [
       "<table>\n",
       "<thead><tr><th></th><th scope=col>CustomerID</th><th scope=col>Gender</th><th scope=col>Age</th><th scope=col>Annual_Income</th><th scope=col>Spending_Score</th></tr></thead>\n",
       "<tbody>\n",
       "\t<tr><th scope=row>195</th><td>195</td><td>0  </td><td>47 </td><td>120</td><td>0  </td></tr>\n",
       "\t<tr><th scope=row>196</th><td>196</td><td>0  </td><td>35 </td><td>120</td><td>1  </td></tr>\n",
       "\t<tr><th scope=row>197</th><td>197</td><td>0  </td><td>45 </td><td>126</td><td>0  </td></tr>\n",
       "\t<tr><th scope=row>198</th><td>198</td><td>1  </td><td>32 </td><td>126</td><td>1  </td></tr>\n",
       "\t<tr><th scope=row>199</th><td>199</td><td>1  </td><td>32 </td><td>137</td><td>0  </td></tr>\n",
       "\t<tr><th scope=row>200</th><td>200</td><td>1  </td><td>30 </td><td>137</td><td>1  </td></tr>\n",
       "</tbody>\n",
       "</table>\n"
      ],
      "text/latex": [
       "\\begin{tabular}{r|lllll}\n",
       "  & CustomerID & Gender & Age & Annual\\_Income & Spending\\_Score\\\\\n",
       "\\hline\n",
       "\t195 & 195 & 0   & 47  & 120 & 0  \\\\\n",
       "\t196 & 196 & 0   & 35  & 120 & 1  \\\\\n",
       "\t197 & 197 & 0   & 45  & 126 & 0  \\\\\n",
       "\t198 & 198 & 1   & 32  & 126 & 1  \\\\\n",
       "\t199 & 199 & 1   & 32  & 137 & 0  \\\\\n",
       "\t200 & 200 & 1   & 30  & 137 & 1  \\\\\n",
       "\\end{tabular}\n"
      ],
      "text/markdown": [
       "\n",
       "| <!--/--> | CustomerID | Gender | Age | Annual_Income | Spending_Score |\n",
       "|---|---|---|---|---|---|\n",
       "| 195 | 195 | 0   | 47  | 120 | 0   |\n",
       "| 196 | 196 | 0   | 35  | 120 | 1   |\n",
       "| 197 | 197 | 0   | 45  | 126 | 0   |\n",
       "| 198 | 198 | 1   | 32  | 126 | 1   |\n",
       "| 199 | 199 | 1   | 32  | 137 | 0   |\n",
       "| 200 | 200 | 1   | 30  | 137 | 1   |\n",
       "\n"
      ],
      "text/plain": [
       "    CustomerID Gender Age Annual_Income Spending_Score\n",
       "195 195        0      47  120           0             \n",
       "196 196        0      35  120           1             \n",
       "197 197        0      45  126           0             \n",
       "198 198        1      32  126           1             \n",
       "199 199        1      32  137           0             \n",
       "200 200        1      30  137           1             "
      ]
     },
     "metadata": {},
     "output_type": "display_data"
    },
    {
     "data": {
      "text/plain": [
       "test$Spending_Score: 0\n",
       "   CustomerID        Gender         Age        Annual_Income    Spending_Score\n",
       " Min.   :141.0   Min.   :0.0   Min.   :19.00   Min.   : 75.00   Min.   :0     \n",
       " 1st Qu.:155.5   1st Qu.:0.0   1st Qu.:34.50   1st Qu.: 78.00   1st Qu.:0     \n",
       " Median :170.0   Median :0.5   Median :41.50   Median : 87.00   Median :0     \n",
       " Mean   :170.0   Mean   :0.5   Mean   :41.83   Mean   : 91.03   Mean   :0     \n",
       " 3rd Qu.:184.5   3rd Qu.:1.0   3rd Qu.:47.75   3rd Qu.: 98.75   3rd Qu.:0     \n",
       " Max.   :199.0   Max.   :1.0   Max.   :59.00   Max.   :137.00   Max.   :0     \n",
       "------------------------------------------------------------ \n",
       "test$Spending_Score: 1\n",
       "   CustomerID        Gender            Age        Annual_Income   \n",
       " Min.   :142.0   Min.   :0.0000   Min.   :27.00   Min.   : 75.00  \n",
       " 1st Qu.:156.5   1st Qu.:0.0000   1st Qu.:30.00   1st Qu.: 78.00  \n",
       " Median :171.0   Median :0.0000   Median :32.00   Median : 87.00  \n",
       " Mean   :171.0   Mean   :0.4333   Mean   :32.03   Mean   : 91.03  \n",
       " 3rd Qu.:185.5   3rd Qu.:1.0000   3rd Qu.:34.75   3rd Qu.: 98.75  \n",
       " Max.   :200.0   Max.   :1.0000   Max.   :39.00   Max.   :137.00  \n",
       " Spending_Score\n",
       " Min.   :1     \n",
       " 1st Qu.:1     \n",
       " Median :1     \n",
       " Mean   :1     \n",
       " 3rd Qu.:1     \n",
       " Max.   :1     "
      ]
     },
     "metadata": {},
     "output_type": "display_data"
    },
    {
     "data": {
      "text/plain": [
       "test$Gender: 0\n",
       "   CustomerID        Gender       Age        Annual_Income    Spending_Score  \n",
       " Min.   :141.0   Min.   :0   Min.   :27.00   Min.   : 75.00   Min.   :0.0000  \n",
       " 1st Qu.:155.8   1st Qu.:0   1st Qu.:31.75   1st Qu.: 78.00   1st Qu.:0.0000  \n",
       " Median :168.5   Median :0   Median :35.50   Median : 86.50   Median :1.0000  \n",
       " Mean   :170.8   Mean   :0   Mean   :37.59   Mean   : 90.81   Mean   :0.5312  \n",
       " 3rd Qu.:187.5   3rd Qu.:0   3rd Qu.:41.75   3rd Qu.:101.50   3rd Qu.:1.0000  \n",
       " Max.   :197.0   Max.   :0   Max.   :57.00   Max.   :126.00   Max.   :1.0000  \n",
       "------------------------------------------------------------ \n",
       "test$Gender: 1\n",
       "   CustomerID        Gender       Age        Annual_Income    Spending_Score  \n",
       " Min.   :142.0   Min.   :1   Min.   :19.00   Min.   : 75.00   Min.   :0.0000  \n",
       " 1st Qu.:155.8   1st Qu.:1   1st Qu.:30.00   1st Qu.: 78.00   1st Qu.:0.0000  \n",
       " Median :171.5   Median :1   Median :34.00   Median : 87.00   Median :0.0000  \n",
       " Mean   :170.2   Mean   :1   Mean   :36.18   Mean   : 91.29   Mean   :0.4643  \n",
       " 3rd Qu.:180.8   3rd Qu.:1   3rd Qu.:40.50   3rd Qu.: 94.25   3rd Qu.:1.0000  \n",
       " Max.   :200.0   Max.   :1   Max.   :59.00   Max.   :137.00   Max.   :1.0000  "
      ]
     },
     "metadata": {},
     "output_type": "display_data"
    }
   ],
   "source": [
    "# Test data\n",
    "test <- mall_data[141:200,]\n",
    "head(test)\n",
    "tail(test)\n",
    "by(test, test$Spending_Score, summary)\n",
    "by(test, test$Gender, summary)"
   ]
  },
  {
   "cell_type": "code",
   "execution_count": 11,
   "metadata": {
    "scrolled": false
   },
   "outputs": [
    {
     "data": {
      "text/plain": [
       "\n",
       "Call:\n",
       "glm(formula = Spending_Score ~ ., family = binomial(link = \"logit\"), \n",
       "    data = train)\n",
       "\n",
       "Deviance Residuals: \n",
       "   Min      1Q  Median      3Q     Max  \n",
       "-1.649  -1.120   0.797   1.081   1.579  \n",
       "\n",
       "Coefficients:\n",
       "              Estimate Std. Error z value Pr(>|z|)   \n",
       "(Intercept)    0.07106    1.39302   0.051  0.95931   \n",
       "CustomerID    -0.03116    0.03465  -0.899  0.36842   \n",
       "Gender         0.14264    0.35737   0.399  0.68980   \n",
       "Age           -0.03449    0.01206  -2.860  0.00424 **\n",
       "Annual_Income  0.07353    0.08035   0.915  0.36017   \n",
       "---\n",
       "Signif. codes:  0 '***' 0.001 '**' 0.01 '*' 0.05 '.' 0.1 ' ' 1\n",
       "\n",
       "(Dispersion parameter for binomial family taken to be 1)\n",
       "\n",
       "    Null deviance: 193.97  on 139  degrees of freedom\n",
       "Residual deviance: 185.16  on 135  degrees of freedom\n",
       "AIC: 195.16\n",
       "\n",
       "Number of Fisher Scoring iterations: 4\n"
      ]
     },
     "metadata": {},
     "output_type": "display_data"
    }
   ],
   "source": [
    "# Logit model\n",
    "logit_model <- glm(Spending_Score ~., family = binomial(link = 'logit'), data = train, )\n",
    "summary(logit_model)"
   ]
  },
  {
   "cell_type": "code",
   "execution_count": 12,
   "metadata": {
    "scrolled": false
   },
   "outputs": [
    {
     "data": {
      "text/plain": [
       "\n",
       "Call:\n",
       "glm(formula = Spending_Score ~ ., family = binomial(link = \"probit\"), \n",
       "    data = train)\n",
       "\n",
       "Deviance Residuals: \n",
       "    Min       1Q   Median       3Q      Max  \n",
       "-1.6551  -1.1231   0.7935   1.0835   1.5792  \n",
       "\n",
       "Coefficients:\n",
       "               Estimate Std. Error z value Pr(>|z|)   \n",
       "(Intercept)    0.018833   0.863133   0.022   0.9826   \n",
       "CustomerID    -0.020042   0.021375  -0.938   0.3484   \n",
       "Gender         0.086737   0.220584   0.393   0.6942   \n",
       "Age           -0.021328   0.007347  -2.903   0.0037 **\n",
       "Annual_Income  0.047179   0.049560   0.952   0.3411   \n",
       "---\n",
       "Signif. codes:  0 '***' 0.001 '**' 0.01 '*' 0.05 '.' 0.1 ' ' 1\n",
       "\n",
       "(Dispersion parameter for binomial family taken to be 1)\n",
       "\n",
       "    Null deviance: 193.97  on 139  degrees of freedom\n",
       "Residual deviance: 185.17  on 135  degrees of freedom\n",
       "AIC: 195.17\n",
       "\n",
       "Number of Fisher Scoring iterations: 4\n"
      ]
     },
     "metadata": {},
     "output_type": "display_data"
    }
   ],
   "source": [
    "# Probit model\n",
    "probit_model <- glm(Spending_Score ~., family = binomial(link = 'probit'), data = train)\n",
    "summary(probit_model)"
   ]
  },
  {
   "cell_type": "markdown",
   "metadata": {},
   "source": [
    "We simply go with the 'logit' model though the difference in the Akaike Information Criterion, AIC"
   ]
  },
  {
   "cell_type": "markdown",
   "metadata": {},
   "source": [
    "### Model evaluation"
   ]
  },
  {
   "cell_type": "code",
   "execution_count": 13,
   "metadata": {
    "scrolled": false
   },
   "outputs": [
    {
     "name": "stdout",
     "output_type": "stream",
     "text": [
      "[1] \"Accuracy score: 70 %\"\n"
     ]
    }
   ],
   "source": [
    "# Model score\n",
    "model_eval <- predict(logit_model, newdata = test, type = 'response')\n",
    "model_eval <- ifelse(predict > 0.5, 1, 0)\n",
    "\n",
    "missClassError <- mean(model_eval != test$Spending_Score)\n",
    "print(paste('Accuracy score:', 100*(1 - missClassError),'%'))"
   ]
  },
  {
   "cell_type": "code",
   "execution_count": 15,
   "metadata": {
    "scrolled": false
   },
   "outputs": [
    {
     "data": {
      "text/plain": [
       "Confusion Matrix and Statistics\n",
       "\n",
       "    \n",
       "data  0  1\n",
       "   0 12  0\n",
       "   1 18 30\n",
       "                                          \n",
       "               Accuracy : 0.7             \n",
       "                 95% CI : (0.5679, 0.8115)\n",
       "    No Information Rate : 0.5             \n",
       "    P-Value [Acc > NIR] : 0.001335        \n",
       "                                          \n",
       "                  Kappa : 0.4             \n",
       "                                          \n",
       " Mcnemar's Test P-Value : 6.151e-05       \n",
       "                                          \n",
       "            Sensitivity : 0.400           \n",
       "            Specificity : 1.000           \n",
       "         Pos Pred Value : 1.000           \n",
       "         Neg Pred Value : 0.625           \n",
       "             Prevalence : 0.500           \n",
       "         Detection Rate : 0.200           \n",
       "   Detection Prevalence : 0.200           \n",
       "      Balanced Accuracy : 0.700           \n",
       "                                          \n",
       "       'Positive' Class : 0               \n",
       "                                          "
      ]
     },
     "metadata": {},
     "output_type": "display_data"
    }
   ],
   "source": [
    "# Confusion matrix\n",
    "library(caret)\n",
    "library(e1071)\n",
    "confusionMatrix(table(data = model_eval, test$Spending_Score))"
   ]
  },
  {
   "cell_type": "markdown",
   "metadata": {},
   "source": [
    "### Metrics Calculation\n",
    "\n",
    "We proceeded to calculate classification accuracy score, precision and recall from confusion matrix.\n",
    "\n",
    "#### Accuracy Score\n",
    "\n",
    "$$\n",
    "Accuracy Score = \\frac{Correct Predictions}{All Predictions} = \\frac{TP + TN}{TP + TN + FP + FN}\n",
    "$$\n",
    "\n",
    "#### Precision\n",
    "$$\n",
    "Positive Precision = \\frac{True Positive}{Predicted Positive} = \\frac{TP}{TP + FP}\n",
    "$$\n",
    "\n",
    "$$\n",
    "Negative Precision = \\frac{True Negative}{Predicted Negative} = \\frac{TN}{TN + FN}\n",
    "$$\n",
    "\n",
    "#### Recall\n",
    "\n",
    "$$\n",
    "Positive Recall = \\frac{True Positive}{Actual Positive} = \\frac{TP}{TP + FN}\n",
    "$$\n",
    "\n",
    "$$\n",
    "Negative Recall = \\frac{True Negative}{Actual Negative} = \\frac{TN}{TN + FP}\n",
    "$$\n"
   ]
  },
  {
   "cell_type": "markdown",
   "metadata": {},
   "source": [
    "### Calculations\n",
    "\n",
    "$$\n",
    "Accuracy Score = 42/60 = 0.7\n",
    "$$\n",
    "\n",
    "$$\n",
    "Positive Precision = 30/30 = 1\n",
    "$$\n",
    "\n",
    "$$\n",
    "Negative Precision = 12/30 = 0.286\n",
    "$$\n",
    "\n",
    "$$\n",
    "Positive Recall = 30/48 = 0.625\n",
    "$$\n",
    "\n",
    "$$\n",
    "Negative Recall = 12/12 = 1\n",
    "$$"
   ]
  },
  {
   "cell_type": "markdown",
   "metadata": {},
   "source": [
    "We conclude by saying our model works fine with an accuracy score of 70 % and positive recall of 62.5 %. Adjusting some hyper-parameters may improve our model. Also, having more data samples and probably more predictor variables can generally improve our model."
   ]
  },
  {
   "cell_type": "code",
   "execution_count": null,
   "metadata": {
    "scrolled": false
   },
   "outputs": [],
   "source": []
  }
 ],
 "metadata": {
  "kernelspec": {
   "display_name": "R",
   "language": "R",
   "name": "ir"
  },
  "language_info": {
   "codemirror_mode": "r",
   "file_extension": ".r",
   "mimetype": "text/x-r-source",
   "name": "R",
   "pygments_lexer": "r",
   "version": "3.6.1"
  }
 },
 "nbformat": 4,
 "nbformat_minor": 4
}
